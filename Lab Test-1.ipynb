{
 "cells": [
  {
   "cell_type": "code",
   "execution_count": 23,
   "metadata": {},
   "outputs": [],
   "source": [
    "import numpy as np\n",
    "\n",
    "patient_list = np.array([[1, \"Rahul\", \"Dixit\", \"Male\", \"Kidney Stone\", \"operation\", \"yes\", 10000],\n",
    "                         [2, \"Kunal\", \"Malhotra\", \"Male\", \"HairFall\", \"operation\", \"yes\", 10500],\n",
    "                        ])\n",
    "\n",
    "\n"
   ]
  },
  {
   "cell_type": "code",
   "execution_count": 24,
   "metadata": {},
   "outputs": [],
   "source": [
    "doctor_list = np.array([[11, \"Dixit\", \"Stone master\"], \n",
    "                        [12, \"Malhotra\", \"Dermatalogist\"]])"
   ]
  },
  {
   "cell_type": "code",
   "execution_count": 25,
   "metadata": {},
   "outputs": [
    {
     "name": "stdout",
     "output_type": "stream",
     "text": [
      "1\n",
      "Rahul\n",
      "Dixit\n",
      "Male\n",
      "Kidney Stone\n",
      "operation\n",
      "yes\n",
      "10000\n",
      "2\n",
      "Kunal\n",
      "Malhotra\n",
      "Male\n",
      "HairFall\n",
      "operation\n",
      "yes\n",
      "10500\n"
     ]
    }
   ],
   "source": [
    "for doctor_list in patient_list:\n",
    "    for y in doctor_list:\n",
    "        print(y)\n"
   ]
  },
  {
   "cell_type": "code",
   "execution_count": 26,
   "metadata": {},
   "outputs": [
    {
     "name": "stdout",
     "output_type": "stream",
     "text": [
      "Maximum Bill: ['2' 'Kunal' 'Malhotra' 'Male' 'HairFall' 'operation' 'yes' '10500']\n",
      "Minimum Bill: ['1' 'Rahul' 'Dixit' 'Male' 'Kidney Stone' 'operation' 'yes' '10000']\n"
     ]
    }
   ],
   "source": [
    "if patient_list[0,7] < patient_list[1,7]:\n",
    "    \n",
    "    print(f\"Maximum Bill: {patient_list[1]}\")\n",
    "    \n",
    "else:\n",
    "    \n",
    "    print(f\"Maximum Bill: {patient_list[0]}\")\n",
    "    \n",
    "    \n",
    "    \n",
    "if patient_list[0,7] < patient_list[1,7]:\n",
    "    \n",
    "    print(f\"Minimum Bill: {patient_list[0]}\")\n",
    "    \n",
    "else:\n",
    "    \n",
    "    print(f\"Minimum Bill: {patient_list[1]}\")"
   ]
  },
  {
   "cell_type": "code",
   "execution_count": null,
   "metadata": {},
   "outputs": [],
   "source": []
  },
  {
   "cell_type": "code",
   "execution_count": null,
   "metadata": {},
   "outputs": [],
   "source": []
  }
 ],
 "metadata": {
  "kernelspec": {
   "display_name": "Python 3",
   "language": "python",
   "name": "python3"
  },
  "language_info": {
   "codemirror_mode": {
    "name": "ipython",
    "version": 3
   },
   "file_extension": ".py",
   "mimetype": "text/x-python",
   "name": "python",
   "nbconvert_exporter": "python",
   "pygments_lexer": "ipython3",
   "version": "3.7.3"
  }
 },
 "nbformat": 4,
 "nbformat_minor": 2
}
